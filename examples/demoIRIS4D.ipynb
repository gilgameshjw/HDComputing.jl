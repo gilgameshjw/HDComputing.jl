{
 "cells": [
  {
   "cell_type": "markdown",
   "metadata": {},
   "source": [
    "# Application of HD computing on multinomial, metrical dataset"
   ]
  },
  {
   "cell_type": "code",
   "execution_count": 86,
   "metadata": {},
   "outputs": [
    {
     "data": {
      "text/plain": [
       "encodeDataset2SparseMat (generic function with 1 method)"
      ]
     },
     "execution_count": 86,
     "metadata": {},
     "output_type": "execute_result"
    }
   ],
   "source": [
    "\n",
    "using MLJ\n",
    "using MLJModels, Statistics, PrettyPrinting\n",
    "using ProgressMeter\n",
    "using Dates\n",
    "using SparseArrays\n",
    "\n",
    "\n",
    "include(\"../src/manifoldLearning.jl\")\n",
    "include(\"../src/coarseEncoding.jl\")\n",
    "#include(\"../src/libEncoding.jl\")\n"
   ]
  },
  {
   "cell_type": "code",
   "execution_count": 87,
   "metadata": {},
   "outputs": [],
   "source": [
    "\n",
    "X, y = @load_iris;\n"
   ]
  },
  {
   "cell_type": "markdown",
   "metadata": {},
   "source": [
    "### Model merging metric features as a large vector"
   ]
  },
  {
   "cell_type": "code",
   "execution_count": 88,
   "metadata": {},
   "outputs": [
    {
     "name": "stdout",
     "output_type": "stream",
     "text": [
      "  0.011441 seconds (4.58 k allocations: 220.979 KiB)\n",
      "  0.183622 seconds (188.71 k allocations: 9.303 MiB)\n"
     ]
    }
   ],
   "source": [
    "\n",
    "dimensions = collect(keys(X))\n",
    "nLattices = 5\n",
    "\n",
    "maximas = Dict(map(d -> d => maximum(X[d]), dimensions))\n",
    "minimas = Dict(map(d -> d => minimum(X[d]), dimensions))\n",
    "resolution = Dict(map(d -> d => 0.5, dimensions))\n",
    "\n",
    "@time coarseEncoder = CoarseEncoder(dimensions,nLattices,maximas,minimas,resolution)\n",
    "@time lattice = generateLattice(coarseEncoder);\n"
   ]
  },
  {
   "cell_type": "code",
   "execution_count": 89,
   "metadata": {},
   "outputs": [
    {
     "name": "stderr",
     "output_type": "stream",
     "text": [
      "\u001b[32mProgress: 100%|█████████████████████████████████████████| Time: 0:00:00\u001b[39m\n"
     ]
    },
    {
     "name": "stdout",
     "output_type": "stream",
     "text": [
      "  0.230788 seconds (275.73 k allocations: 13.984 MiB)\n"
     ]
    }
   ],
   "source": [
    "\n",
    "l = length(X.petal_length)\n",
    "data2Encode = map(i -> map(d -> d => X[d][i], dimensions) |> Dict, 1:l)\n",
    "\n",
    "@time sparseHDM = encodeDataset2SparseMat(data2Encode, coarseEncoder, lattice);\n"
   ]
  },
  {
   "cell_type": "code",
   "execution_count": 90,
   "metadata": {},
   "outputs": [
    {
     "data": {
      "text/plain": [
       "sparse2Dense (generic function with 1 method)"
      ]
     },
     "execution_count": 90,
     "metadata": {},
     "output_type": "execute_result"
    }
   ],
   "source": [
    "\n",
    "function sparse2Dense(hdvec::SparseVector)\n",
    "    \n",
    "    n = hdvec.n\n",
    "    vec = zeros(n)\n",
    "    map(i -> vec[i] += 1, hdvec.nzind)\n",
    "    vec\n",
    "    \n",
    "end\n"
   ]
  },
  {
   "cell_type": "code",
   "execution_count": 95,
   "metadata": {},
   "outputs": [
    {
     "name": "stderr",
     "output_type": "stream",
     "text": [
      "\u001b[32m\u001b[1m   Building\u001b[22m\u001b[39m Conda ─→ `~/.julia/packages/Conda/3rPhK/deps/build.log`\n",
      "\u001b[32m\u001b[1m   Building\u001b[22m\u001b[39m PyCall → `~/.julia/packages/PyCall/zqDXB/deps/build.log`\n"
     ]
    },
    {
     "data": {
      "text/plain": [
       "PyObject <module 'sklearn.model_selection' from '/home/jair/.julia/conda/3/lib/python3.7/site-packages/sklearn/model_selection/__init__.py'>"
      ]
     },
     "execution_count": 95,
     "metadata": {},
     "output_type": "execute_result"
    }
   ],
   "source": [
    "\n",
    "ENV[\"PYTHON\"] = \"/usr/bin/python3\"\n",
    "using Pkg\n",
    "Pkg.build(\"PyCall\")\n",
    "\n",
    "using PyCall\n",
    "\n",
    "NB = pyimport(\"sklearn.naive_bayes\")\n",
    "SVM = pyimport(\"sklearn.svm\")\n",
    "LINMODEL = pyimport(\"sklearn.linear_model\")\n",
    "METRICS = pyimport(\"sklearn.metrics\")\n",
    "model_selection = pyimport(\"sklearn.model_selection\")\n"
   ]
  },
  {
   "cell_type": "code",
   "execution_count": 97,
   "metadata": {},
   "outputs": [
    {
     "data": {
      "text/plain": [
       "5-element Array{Float64,1}:\n",
       " 1.0\n",
       " 0.9\n",
       " 0.9666666666666667\n",
       " 0.9666666666666667\n",
       " 0.9666666666666667"
      ]
     },
     "execution_count": 97,
     "metadata": {},
     "output_type": "execute_result"
    }
   ],
   "source": [
    "\n",
    "my_clf = SVM.SVC(kernel=\"linear\", C=1)\n",
    "\n",
    "data = map(i -> sparseHDM[i,:] |> sparse2Dense, 1:l)\n",
    "labels = map(i -> i == \"setosa\", y)\n",
    "\n",
    "# precisions\n",
    "model_selection.cross_val_score(my_clf, data, labels, cv=5)\n"
   ]
  },
  {
   "cell_type": "code",
   "execution_count": 98,
   "metadata": {},
   "outputs": [
    {
     "data": {
      "text/plain": [
       "5-element Array{Float64,1}:\n",
       " 0.9666666666666667\n",
       " 0.8333333333333334\n",
       " 0.9\n",
       " 0.9\n",
       " 0.9"
      ]
     },
     "execution_count": 98,
     "metadata": {},
     "output_type": "execute_result"
    }
   ],
   "source": [
    "\n",
    "my_clf = LINMODEL.LogisticRegression(random_state=0)\n",
    "\n",
    "data = map(i -> sparseHDM[i,:] |> sparse2Dense, 1:l)\n",
    "labels = map(i -> i == \"setosa\", y)\n",
    "\n",
    "# precisions\n",
    "model_selection.cross_val_score(my_clf, data, labels, cv=5)\n"
   ]
  },
  {
   "cell_type": "markdown",
   "metadata": {},
   "source": [
    "### Standard, without encoding"
   ]
  },
  {
   "cell_type": "code",
   "execution_count": 75,
   "metadata": {},
   "outputs": [
    {
     "data": {
      "text/plain": [
       "5-element Array{Float64,1}:\n",
       " 1.0\n",
       " 1.0\n",
       " 1.0\n",
       " 1.0\n",
       " 1.0"
      ]
     },
     "execution_count": 75,
     "metadata": {},
     "output_type": "execute_result"
    }
   ],
   "source": [
    "\n",
    "X, y = @load_iris\n",
    "l = length(y)\n",
    "data = map(i -> map(d -> X[d][i], dimensions) , 1:l);\n",
    "\n",
    "my_clf = SVM.SVC(kernel=\"linear\", C=1)\n",
    "labels = map(i -> i == \"setosa\", y)\n",
    "\n",
    "# precisions\n",
    "model_selection.cross_val_score(my_clf, data, labels, cv=5)\n"
   ]
  },
  {
   "cell_type": "code",
   "execution_count": 76,
   "metadata": {},
   "outputs": [
    {
     "data": {
      "text/plain": [
       "5-element Array{Float64,1}:\n",
       " 1.0\n",
       " 1.0\n",
       " 1.0\n",
       " 1.0\n",
       " 1.0"
      ]
     },
     "execution_count": 76,
     "metadata": {},
     "output_type": "execute_result"
    }
   ],
   "source": [
    "\n",
    "my_clf = LINMODEL.LogisticRegression(random_state=0)\n",
    "\n",
    "# precisions\n",
    "model_selection.cross_val_score(my_clf, data, labels, cv=5)\n"
   ]
  },
  {
   "cell_type": "code",
   "execution_count": null,
   "metadata": {},
   "outputs": [],
   "source": []
  }
 ],
 "metadata": {
  "kernelspec": {
   "display_name": "Julia 1.4.2",
   "language": "julia",
   "name": "julia-1.4"
  },
  "language_info": {
   "file_extension": ".jl",
   "mimetype": "application/julia",
   "name": "julia",
   "version": "1.4.2"
  }
 },
 "nbformat": 4,
 "nbformat_minor": 2
}
