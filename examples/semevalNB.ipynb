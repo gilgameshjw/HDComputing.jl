{
 "cells": [
  {
   "cell_type": "code",
   "execution_count": 1,
   "metadata": {
    "collapsed": true
   },
   "outputs": [],
   "source": [
    "### Semeval Analysis\n",
    "#### Stance detection with Semeval 2016\n",
    "#### http://alt.qcri.org/semeval2016/task6/\n",
    "#### "
   ]
  },
  {
   "cell_type": "code",
   "execution_count": null,
   "metadata": {
    "collapsed": true
   },
   "outputs": [],
   "source": []
  },
  {
   "cell_type": "code",
   "execution_count": 2,
   "metadata": {},
   "outputs": [
    {
     "name": "stdout",
     "output_type": "stream",
     "text": [
      "\u001b[32m\u001b[1m  Building\u001b[22m\u001b[39m Conda ─→ `~/.julia/packages/Conda/kLXeC/deps/build.log`\n",
      "\u001b[32m\u001b[1m  Building\u001b[22m\u001b[39m PyCall → `~/.julia/packages/PyCall/ttONZ/deps/build.log`\n"
     ]
    }
   ],
   "source": [
    "ENV[\"PYTHON\"] = \"/home/jair/anaconda3/bin/python\"\n",
    "using Pkg\n",
    "Pkg.build(\"PyCall\");"
   ]
  },
  {
   "cell_type": "code",
   "execution_count": null,
   "metadata": {
    "collapsed": true
   },
   "outputs": [],
   "source": []
  },
  {
   "cell_type": "code",
   "execution_count": 3,
   "metadata": {},
   "outputs": [
    {
     "name": "stderr",
     "output_type": "stream",
     "text": [
      "┌ Warning: `@pyimport foo` is deprecated in favor of `foo = pyimport(\"foo\")`.\n",
      "│   caller = _pywrap_pyimport(::PyObject) at PyCall.jl:407\n",
      "└ @ PyCall /home/jair/.julia/packages/PyCall/ttONZ/src/PyCall.jl:407\n"
     ]
    }
   ],
   "source": [
    "using ProgressMeter\n",
    "using DataFrames\n",
    "using JSON\n",
    "using CSV\n",
    "using PyCall\n",
    "using PyPlot\n",
    "using StatsBase\n",
    "\n",
    "using ScikitLearn\n",
    "@pyimport sklearn.datasets as datasets\n",
    "@pyimport sklearn.naive_bayes as NB\n",
    "@pyimport sklearn.tree as Tree\n",
    "@pyimport sklearn.linear_model as LM\n",
    "@pyimport sklearn.ensemble as E\n",
    "@pyimport sklearn.svm as SVM\n",
    "\n",
    "@pyimport sklearn.metrics as METRICS\n",
    "\n",
    "@pyimport nltk.stem as NLTK_STEM\n",
    "@pyimport nltk.corpus as NLTK_CORPUS\n",
    "\n",
    "\n",
    "include(\"src/modelHDSparse.jl\");"
   ]
  },
  {
   "cell_type": "code",
   "execution_count": null,
   "metadata": {
    "collapsed": true
   },
   "outputs": [],
   "source": []
  },
  {
   "cell_type": "code",
   "execution_count": 4,
   "metadata": {},
   "outputs": [
    {
     "name": "stderr",
     "output_type": "stream",
     "text": [
      "┌ Warning: `setindex!(df::DataFrame, v::AbstractVector, col_ind::ColumnIndex)` is deprecated, use `begin\n",
      "│     df[!, col_ind] = v\n",
      "│     df\n",
      "│ end` instead.\n",
      "│   caller = top-level scope at In[4]:13\n",
      "└ @ Core In[4]:13\n",
      "┌ Warning: `setindex!(df::DataFrame, v::AbstractVector, col_ind::ColumnIndex)` is deprecated, use `begin\n",
      "│     df[!, col_ind] = v\n",
      "│     df\n",
      "│ end` instead.\n",
      "│   caller = top-level scope at In[4]:14\n",
      "└ @ Core In[4]:14\n"
     ]
    }
   ],
   "source": [
    "#===========================\n",
    "    Load files\n",
    "===========================#\n",
    "\n",
    "fileTrain = \"examples/data/trainSemeval.csv\"\n",
    "fileTest = \"examples/data/testSemeval.csv\"\n",
    "\n",
    "dfTrain = CSV.read(fileTrain)\n",
    "names!(dfTrain, [:ID,:Tweet, :Target, :Stance, :OpinionsTowards, :Sentiment])\n",
    "dfTest = CSV.read(fileTest)\n",
    "names!(dfTest, [:ID1,:ID2, :Target,:Tweet, :Stance])\n",
    "dfTest[:Sentiment] = map(i -> i, 1:size(dfTest, 1))\n",
    "dfTest[:OpinionsTowards] = map(i -> i, 1:size(dfTest, 1));"
   ]
  },
  {
   "cell_type": "code",
   "execution_count": null,
   "metadata": {
    "collapsed": true
   },
   "outputs": [],
   "source": []
  },
  {
   "cell_type": "code",
   "execution_count": 5,
   "metadata": {},
   "outputs": [
    {
     "name": "stderr",
     "output_type": "stream",
     "text": [
      "┌ Warning: `getindex(o::PyObject, s::Symbol)` is deprecated in favor of dot overloading (`getproperty`) so elements should now be accessed as e.g. `o.s` instead of `o[:s]`.\n",
      "│   caller = top-level scope at In[5]:1\n",
      "└ @ Core In[5]:1\n"
     ]
    },
    {
     "data": {
      "text/plain": [
       "parseTxt2BoW (generic function with 1 method)"
      ]
     },
     "execution_count": 5,
     "metadata": {},
     "output_type": "execute_result"
    }
   ],
   "source": [
    "#===========================\n",
    "    basic NLP from scratch\n",
    "============================#\n",
    "\n",
    "stopWords = NLTK_CORPUS.stopwords[:words](\"english\")\n",
    "filterWords = vcat([\"\"], stopWords)\n",
    "\n",
    "stemmer = NLTK_STEM.SnowballStemmer(\"english\")\n",
    "\n",
    "function largestSentenceOnly(corpus)\n",
    "    maxCorpus = maximum(map(c -> length(c), corpus))\n",
    "    for c in corpus\n",
    "        if length(c) == maxCorpus\n",
    "            return c\n",
    "        end\n",
    "    end\n",
    "end\n",
    "\n",
    "function parseTxt2BoW(text)\n",
    "    # 1. decompose into sentences\n",
    "    # 2. sentences -> Nag of Words\n",
    "    \n",
    "    function lowerCase(wrd)\n",
    "       try\n",
    "            lowercase(wrd) |> \n",
    "                (W -> filter(s -> !(s in ['\\\"']), W)) |>  # , '-', '+', '~'\n",
    "                    stemmer[:stem]\n",
    "        catch # found strange characters in dataset, maybe emoticons? '\\x90','\\xa2','\\xb4','\\xa0','\\xb4','\\xd3'\n",
    "            wrd\n",
    "        end\n",
    "    end\n",
    "    \n",
    "    function massageText(wrds)\n",
    "        # filter words\n",
    "        wrds = filter(w -> !(w in filterWords), wrds)\n",
    "        # filter words with symbols\n",
    "        filter(w -> true, wrds) |> # !(w[1] in ['#', '@']), wrds)\n",
    "            (W -> map(w -> lowerCase(w), W))\n",
    "    end\n",
    "    \n",
    "    \n",
    "    split(text, ['.','!','?']) |> \n",
    "        (txt -> map(t -> (split(t, [' ',',','/','\\'',';',':',]) |> massageText), \n",
    "                    txt)) |> #largestSentenceOnly |>\n",
    "        (T -> vcat(T...)) |>\n",
    "        (T -> filter(x -> x != \"\", T))\n",
    "end\n",
    "\n"
   ]
  },
  {
   "cell_type": "code",
   "execution_count": null,
   "metadata": {
    "collapsed": true
   },
   "outputs": [],
   "source": []
  },
  {
   "cell_type": "code",
   "execution_count": 6,
   "metadata": {},
   "outputs": [
    {
     "name": "stderr",
     "output_type": "stream",
     "text": [
      "┌ Warning: `getindex(df::DataFrame, col_ind::ColumnIndex)` is deprecated, use `df[!, col_ind]` instead.\n",
      "│   caller = top-level scope at In[6]:1\n",
      "└ @ Core ./In[6]:1\n",
      "┌ Warning: `getindex(o::PyObject, s::Symbol)` is deprecated in favor of dot overloading (`getproperty`) so elements should now be accessed as e.g. `o.s` instead of `o[:s]`.\n",
      "│   caller = (::getfield(Main, Symbol(\"#lowerCase#20\")))(::SubString{String}) at In[5]:25\n",
      "└ @ Main ./In[5]:25\n",
      "┌ Warning: `getindex(df::DataFrame, col_ind::ColumnIndex)` is deprecated, use `df[!, col_ind]` instead.\n",
      "│   caller = top-level scope at In[6]:13\n",
      "└ @ Core ./In[6]:13\n"
     ]
    }
   ],
   "source": [
    "\n",
    "#===\n",
    "    Test parser on real tweets\n",
    "===#\n",
    "\n",
    "for (i,t) in enumerate(dfTrain[:Tweet])\n",
    "    try\n",
    "        parseTxt2BoW(t)\n",
    "    catch\n",
    "        println(\"bug in train: \", i)\n",
    "    end\n",
    "end\n",
    "\n",
    "for (i,t) in enumerate(dfTest[:Tweet])\n",
    "    try\n",
    "        parseTxt2BoW(t)\n",
    "    catch\n",
    "        println(\"bug in test: \", i)\n",
    "    end\n",
    "end"
   ]
  },
  {
   "cell_type": "code",
   "execution_count": null,
   "metadata": {
    "collapsed": true
   },
   "outputs": [],
   "source": []
  },
  {
   "cell_type": "code",
   "execution_count": 7,
   "metadata": {},
   "outputs": [
    {
     "name": "stderr",
     "output_type": "stream",
     "text": [
      "┌ Warning: `getindex(df::DataFrame, col_ind::ColumnIndex)` is deprecated, use `df[!, col_ind]` instead.\n",
      "│   caller = top-level scope at In[7]:1\n",
      "└ @ Core In[7]:1\n",
      "┌ Warning: `getindex(df::DataFrame, col_ind::ColumnIndex)` is deprecated, use `df[!, col_ind]` instead.\n",
      "│   caller = top-level scope at In[7]:6\n",
      "└ @ Core In[7]:6\n"
     ]
    },
    {
     "data": {
      "image/png": "[encoded data removed]",
      "text/plain": [
       "Figure(PyObject <Figure size 640x480 with 1 Axes>)"
      ]
     },
     "metadata": {},
     "output_type": "display_data"
    }
   ],
   "source": [
    "#===\n",
    "    Used to fined tuned the SDR model\n",
    "===#\n",
    "\n",
    "lengthsTrain = map(t -> length(vcat(parseTxt2BoW(t)...)), dfTrain[:Tweet])  \n",
    "lengthsTest = map(t -> length(vcat(parseTxt2BoW(t)...)), dfTest[:Tweet])\n",
    "using PyPlot\n",
    "xlabel(\"# of words/tags\")\n",
    "ylabel(\"# of counts\")\n",
    "hist(lengthsTrain)\n",
    "hist(lengthsTest);"
   ]
  },
  {
   "cell_type": "code",
   "execution_count": 38,
   "metadata": {},
   "outputs": [
    {
     "data": {
      "text/plain": [
       "getF1Scores (generic function with 1 method)"
      ]
     },
     "execution_count": 38,
     "metadata": {},
     "output_type": "execute_result"
    }
   ],
   "source": [
    "\n",
    "\n",
    "function getF1Scores(yTest, yClassified)\n",
    "    #===\n",
    "        fmacroT and fmicroT for \"main classes\"\n",
    "        F-microT  was  used  as the bottom-line evaluation metric\n",
    "        in the SemEval-2016 shared task  on stance detection\n",
    "    ===#    \n",
    "    f1Macro = METRICS.f1_score(yTest, yClassified, average=\"macro\")\n",
    "    f1Micro = METRICS.f1_score(yTest, yClassified, average=\"micro\")\n",
    "    \n",
    "    idcesFavor = filter(i -> yTest[i] == classes[\"FAVOR\"], 1:length(yTest)) \n",
    "    idcesAgainst = filter(i -> yTest[i] == classes[\"AGAINST\"], 1:length(yTest))\n",
    "    idcesNone = filter(i -> yTest[i] == classes[\"NONE\"], 1:length(yTest))\n",
    "    \n",
    "    fFavorMacro = METRICS.f1_score(map(i -> yTest[i], idcesFavor), \n",
    "                                   map(i -> yClassified[i], idcesFavor), average=\"macro\")\n",
    "    fAgainstMacro = METRICS.f1_score(map(i -> yTest[i], idcesAgainst),\n",
    "                                     map(i -> yClassified[i], idcesAgainst), average=\"macro\")\n",
    "    fNoneMacro = METRICS.f1_score(map(i -> yTest[i], idcesNone),\n",
    "                                  map(i -> yClassified[i], idcesNone), average=\"macro\")\n",
    "    \n",
    "    fFavorMicro = METRICS.f1_score(map(i -> yTest[i], idcesFavor),\n",
    "                                   map(i -> yClassified[i], idcesFavor), average=\"micro\")\n",
    "    fAgainstMicro = METRICS.f1_score(map(i -> yTest[i], idcesAgainst),\n",
    "                                     map(i -> yClassified[i], idcesAgainst), average=\"micro\")\n",
    "    fNoneMicro = METRICS.f1_score(map(i -> yTest[i], idcesNone),\n",
    "                                  map(i -> yClassified[i], idcesNone), average=\"micro\")\n",
    "\n",
    "    Dict(:fMacroT => (fFavorMacro + fAgainstMacro) / 2,\n",
    "         :fMicroT => (fFavorMicro + fAgainstMicro) / 2,\n",
    "         #:fMacroT => (fFavorMacro + fAgainstMacro + fNoneMacro) / 3,\n",
    "         #:fMicroT => (fFavorMicro + fAgainstMicro + fNoneMicro) / 3\n",
    "    )\n",
    "end\n",
    "\n"
   ]
  },
  {
   "cell_type": "code",
   "execution_count": null,
   "metadata": {
    "collapsed": true
   },
   "outputs": [],
   "source": []
  },
  {
   "cell_type": "code",
   "execution_count": 39,
   "metadata": {},
   "outputs": [
    {
     "data": {
      "text/plain": [
       "sparse2Dense (generic function with 1 method)"
      ]
     },
     "execution_count": 39,
     "metadata": {},
     "output_type": "execute_result"
    }
   ],
   "source": [
    "function encoderHD(dicSDMs,\n",
    "                   dicModelEncoding::Dict{Symbol,Dict{Symbol,Int64}},\n",
    "                   dicData::Dict{Symbol,Array{String,1}})\n",
    "     [(k = kv[1];\n",
    "       ws = kv[2];\n",
    "       vcat(map(w -> HDSparse.encodeOnTheFly(dicSDMs, dicModelEncoding[k], string(k, \"_\", w)), ws)...))\n",
    "      for kv in dicData] |>\n",
    "                HDSparse.superposition\n",
    "end\n",
    "\n",
    "\n",
    "function myDataModel(dfRow::DataFrameRow)\n",
    "    \n",
    "    vecBoWs = vcat(parseTxt2BoW(dfRow[:Tweet])...)\n",
    "    \n",
    "    Dict(:Target => [dfRow[:Target]],\n",
    "         :Tweet => vecBoWs,\n",
    "         #:biGrams => [string(sort([vecBoWs[i],vecBoWs[i-1]])) for i=3:length(vecBoWs)],\n",
    "         #:biGramsSkip1 => [string(sort([vecBoWs[i],vecBoWs[i-2]])) for i=3:length(vecBoWs)],\n",
    "         #:triGrams => [string(sort([vecBoWs[i],vecBoWs[i-1], vecBoWs[2-1]])) for i=3:length(vecBoWs)])\n",
    "        )\n",
    "end\n",
    "\n",
    "function sparse2Dense(sparseVec)\n",
    "    \"\"\"\n",
    "        Utility to convert into classifiable format.\n",
    "    \"\"\"\n",
    "    v = zeros(n)\n",
    "    for i in sparseVec.nzind\n",
    "         v[i] = 1\n",
    "    end\n",
    "    v\n",
    "end\n"
   ]
  },
  {
   "cell_type": "code",
   "execution_count": null,
   "metadata": {
    "collapsed": true
   },
   "outputs": [],
   "source": []
  },
  {
   "cell_type": "code",
   "execution_count": 40,
   "metadata": {},
   "outputs": [],
   "source": [
    "# length of sdms\n",
    "n = 10000\n",
    "\n",
    "# We build SDRs dictionary \"as you go\"\n",
    "dicSDMs = Dict()\n",
    "\n",
    "wTxt, wTag, wTarget = 1, 1, 13 \n",
    "\n",
    "dicModelEncoding = Dict(:Target => Dict(:N => n, :W => wTarget),\n",
    "                        :Tweet => Dict(:N => n, :W => wTxt), \n",
    "                        :biGrams => Dict(:N => n, :W => wTxt),\n",
    "                        :biGramsSkip1 => Dict(:N => n, :W => wTxt),\n",
    "                        :triGrams => Dict(:N => n, :W => wTxt));"
   ]
  },
  {
   "cell_type": "code",
   "execution_count": null,
   "metadata": {
    "collapsed": true
   },
   "outputs": [],
   "source": []
  },
  {
   "cell_type": "code",
   "execution_count": 41,
   "metadata": {},
   "outputs": [
    {
     "name": "stderr",
     "output_type": "stream",
     "text": [
      "┌ Warning: `getindex(df::DataFrame, col_ind::ColumnIndex)` is deprecated, use `df[!, col_ind]` instead.\n",
      "│   caller = top-level scope at In[41]:1\n",
      "└ @ Core In[41]:1\n",
      "┌ Warning: `getindex(df::DataFrame, col_ind::ColumnIndex)` is deprecated, use `df[!, col_ind]` instead.\n",
      "│   caller = top-level scope at In[41]:8\n",
      "└ @ Core In[41]:8\n"
     ]
    },
    {
     "name": "stdout",
     "output_type": "stream",
     "text": [
      "1\n"
     ]
    },
    {
     "name": "stderr",
     "output_type": "stream",
     "text": [
      "┌ Warning: `getindex(df::DataFrame, col_ind::ColumnIndex)` is deprecated, use `df[!, col_ind]` instead.\n",
      "│   caller = top-level scope at In[41]:23\n",
      "└ @ Core In[41]:23\n",
      "\u001b[32mProgress: 100%|█████████████████████████████████████████| Time: 0:00:11\u001b[39m\n",
      "┌ Warning: `getindex(df::DataFrame, col_ind::ColumnIndex)` is deprecated, use `df[!, col_ind]` instead.\n",
      "│   caller = top-level scope at In[41]:28\n",
      "└ @ Core In[41]:28\n",
      "\u001b[32mProgress: 100%|█████████████████████████████████████████| Time: 0:00:04\u001b[39m\n"
     ]
    },
    {
     "name": "stdout",
     "output_type": "stream",
     "text": [
      "avg cardinal: 24.210363761153054\n"
     ]
    },
    {
     "name": "stderr",
     "output_type": "stream",
     "text": [
      "┌ Warning: `getindex(o::PyObject, s::Symbol)` is deprecated in favor of dot overloading (`getproperty`) so elements should now be accessed as e.g. `o.s` instead of `o[:s]`.\n",
      "│   caller = top-level scope at In[41]:36\n",
      "└ @ Core In[41]:36\n",
      "┌ Warning: `getindex(o::PyObject, s::Symbol)` is deprecated in favor of dot overloading (`getproperty`) so elements should now be accessed as e.g. `o.s` instead of `o[:s]`.\n",
      "│   caller = top-level scope at In[41]:38\n",
      "└ @ Core In[41]:38\n"
     ]
    },
    {
     "name": "stdout",
     "output_type": "stream",
     "text": [
      "precision: 0.6533226581265013\n",
      "f1: 0.445569261104969\n",
      "Metrics for competition:\n",
      "{\n",
      "    \"fMicroT\": 0.7046742730953257,\n",
      "    \"fMacroT\": 0.3488336085879439\n",
      "}\n",
      "\n",
      "2\n"
     ]
    },
    {
     "name": "stderr",
     "output_type": "stream",
     "text": [
      "\u001b[32mProgress: 100%|█████████████████████████████████████████| Time: 0:00:10\u001b[39m\n",
      "\u001b[32mProgress: 100%|█████████████████████████████████████████| Time: 0:00:04\u001b[39m\n"
     ]
    },
    {
     "name": "stdout",
     "output_type": "stream",
     "text": [
      "avg cardinal: 24.22031571722718\n",
      "precision: 0.6477181745396317\n",
      "f1: 0.44252391861710566\n",
      "Metrics for competition:\n",
      "{\n",
      "    \"fMicroT\": 0.6981344313581156,\n",
      "    \"fMacroT\": 0.3470144707149576\n",
      "}\n",
      "\n"
     ]
    }
   ],
   "source": [
    "#==================================\n",
    "    Test SDRs + choose best model\n",
    "==================================#\n",
    "\n",
    "\n",
    "classes = unique(map(w -> w, dfTrain[:Stance]))\n",
    "classes = Dict([classes[i] => i-1 for i = 1:length(classes)])\n",
    "dic = StatsBase.countmap(map(w -> w, dfTrain[:Stance]))\n",
    "\n",
    "\n",
    "my_clf = NB.BernoulliNB()\n",
    "\n",
    "\n",
    "dicTestSDR = Dict()\n",
    "scoresF1, scores, f1Micro, f1Macro = [], [], [], []\n",
    "\n",
    "for i=1:2\n",
    "\n",
    "    println(i)\n",
    "    \n",
    "    dicSDMs = Dict()\n",
    "    #===#\n",
    "    yTrain = map(c -> classes[c], dfTrain[:Stance])\n",
    "    xTrain = \n",
    "        @showprogress map(i -> (dicData = myDataModel(dfTrain[i, :]);\n",
    "                                encoderHD(dicSDMs, dicModelEncoding, dicData)),\n",
    "                          1:size(dfTrain)[1])\n",
    "    yTest = map(c -> classes[c], dfTest[:Stance])\n",
    "    xTest = \n",
    "        @showprogress map(i -> (dicData = myDataModel(dfTest[i, :]);\n",
    "                                encoderHD(dicSDMs, dicModelEncoding, dicData)),\n",
    "                          1:size(dfTest)[1])\n",
    "    #===#\n",
    "    vv = map(sparse2Dense, xTrain)\n",
    "    println(\"avg cardinal: \", sum(map(v -> sum(v), vv)) / length(vv))\n",
    "    my_clf[:fit](vv, yTrain) \n",
    "    vv = map(sparse2Dense, xTest)\n",
    "    y = my_clf[:predict](vv)\n",
    "    score = sum(map(i -> y[i] == yTest[i], 1:length(y))) / length(y)\n",
    "    append!(scores, score)\n",
    "    println(\"precision: \", score)\n",
    "    f1 = METRICS.f1_score(yTest, y, average=\"macro\")\n",
    "    append!(scoresF1, f1)\n",
    "    println(\"f1: \", f1)\n",
    "    f1Dict = getF1Scores(yTest, y)\n",
    "    println(\"Metrics for competition:\")\n",
    "    JSON.json(f1Dict, 4) |> println\n",
    "    ## append!(f1Micro, f1Dict[:fMicro])\n",
    "    ## append!(f1Macro, f1Dict[:fMacro])\n",
    "    dicTestSDR[i] = dicSDMs\n",
    "end\n"
   ]
  },
  {
   "cell_type": "code",
   "execution_count": null,
   "metadata": {
    "collapsed": true
   },
   "outputs": [],
   "source": []
  },
  {
   "cell_type": "code",
   "execution_count": null,
   "metadata": {
    "collapsed": true
   },
   "outputs": [],
   "source": [
    "###    Scores Discussion\n",
    "\n",
    "\n",
    "#### BEST SCORE with Naive Bayes\n",
    "#####\n",
    "##### precision: = 0.657\n",
    "##### F-microT=> 0.7046\n",
    "##### F-macroT=> 0.3488\n",
    "#####\n",
    "##### F-microT and F-macroT as specified in : \"A dataset for detecting stances in Tweets\" (Mohammad, Kirichenko, ...)\n",
    "##### http://www.saifmohammad.com/WebDocs/StarSem2016-stance-tweets.pdf\n",
    "#####\n",
    "##### article\n",
    "##### fMacroT=>59.08\n",
    "##### fMicroT=>70.32\n",
    "#####\n",
    "##### competition winning\n",
    "##### fMacroT=>56.04\n",
    "##### fMicroT=>67.82\n",
    "\n"
   ]
  },
  {
   "cell_type": "code",
   "execution_count": null,
   "metadata": {
    "collapsed": true
   },
   "outputs": [],
   "source": []
  },
  {
   "cell_type": "code",
   "execution_count": null,
   "metadata": {
    "collapsed": true
   },
   "outputs": [],
   "source": []
  }
 ],
 "metadata": {
  "kernelspec": {
   "display_name": "Julia 1.2.0",
   "language": "julia",
   "name": "julia-1.2"
  },
  "language_info": {
   "file_extension": ".jl",
   "mimetype": "application/julia",
   "name": "julia",
   "version": "1.2.0"
  }
 },
 "nbformat": 4,
 "nbformat_minor": 2
}
